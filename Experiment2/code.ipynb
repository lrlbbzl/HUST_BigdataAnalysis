{
 "cells": [
  {
   "cell_type": "code",
   "execution_count": 3,
   "metadata": {},
   "outputs": [],
   "source": [
    "import numpy as np\n",
    "import pandas as pd\n",
    "import math"
   ]
  },
  {
   "cell_type": "code",
   "execution_count": 4,
   "metadata": {},
   "outputs": [],
   "source": [
    "df = pd.read_csv('sent_receive.csv')\n",
    "sent_id, receive_id = df['sent_id'].values, df['receive_id'].values"
   ]
  },
  {
   "cell_type": "code",
   "execution_count": 5,
   "metadata": {},
   "outputs": [],
   "source": [
    "trans = {}\n",
    "num_set = list((set(sent_id) | set(receive_id)))\n",
    "# trans 从原序号映射到新结点序号0-...\n",
    "for i in range(len(num_set)):\n",
    "    trans.update({num_set[i] : i})"
   ]
  },
  {
   "cell_type": "code",
   "execution_count": 20,
   "metadata": {},
   "outputs": [],
   "source": [
    "M = np.zeros(shape=(len(num_set), len(num_set)))\n",
    "for i in range(len(sent_id)):\n",
    "    M[trans[sent_id[i]]][trans[receive_id[i]]] = 1"
   ]
  },
  {
   "cell_type": "code",
   "execution_count": 10,
   "metadata": {},
   "outputs": [],
   "source": [
    "R = np.full(len(num_set), 1 / len(num_set))"
   ]
  },
  {
   "cell_type": "code",
   "execution_count": 22,
   "metadata": {},
   "outputs": [],
   "source": [
    "for i in range(len(M)):\n",
    "    if np.sum(M[i]):\n",
    "        M[i] = np.divide(M[i], np.sum(M[i]))"
   ]
  },
  {
   "cell_type": "code",
   "execution_count": 24,
   "metadata": {},
   "outputs": [],
   "source": [
    "M = M.T"
   ]
  },
  {
   "cell_type": "code",
   "execution_count": 28,
   "metadata": {},
   "outputs": [],
   "source": [
    "def update_mat(mat):\n",
    "    col_sum = np.sum(mat, axis=0)\n",
    "    n, beta = len(mat), 0.85\n",
    "    ind = [i for i in range(len(col_sum)) if col_sum[i] == 0]\n",
    "    for i in range(len(mat)):\n",
    "        for j in ind:\n",
    "            mat[i][j] = 1 / n\n",
    "    mat = np.multiply(mat, beta)\n",
    "    mat += np.multiply(np.full(mat.shape, 1 / n), 1 - beta)\n",
    "    return mat"
   ]
  },
  {
   "cell_type": "code",
   "execution_count": 29,
   "metadata": {},
   "outputs": [],
   "source": [
    "M = update_mat(M)\n",
    "R = R.reshape((len(R), 1))"
   ]
  },
  {
   "cell_type": "code",
   "execution_count": 39,
   "metadata": {},
   "outputs": [],
   "source": [
    "# 计算两个n*1列向量的距离\n",
    "def cal_distance(r1, r2):\n",
    "    return np.sqrt(np.sum(np.square(r1 - r2)))"
   ]
  },
  {
   "cell_type": "code",
   "execution_count": 49,
   "metadata": {},
   "outputs": [],
   "source": [
    "new_R = np.dot(M, R)\n",
    "epsilon = math.pow(10, -8)\n",
    "while cal_distance(new_R, R) >= epsilon:\n",
    "    R = new_R\n",
    "    new_R = np.dot(M, R)"
   ]
  },
  {
   "cell_type": "code",
   "execution_count": 57,
   "metadata": {},
   "outputs": [],
   "source": [
    "with open('ans', 'w') as w:\n",
    "    for i in range(len(new_R)):\n",
    "        w.write(str(num_set[i]) + '\\t' + str(new_R[i][0]) + '\\n')\n",
    "w.close()"
   ]
  },
  {
   "cell_type": "code",
   "execution_count": null,
   "metadata": {},
   "outputs": [],
   "source": []
  }
 ],
 "metadata": {
  "interpreter": {
   "hash": "73e8fb81fc9d21637ba62ed4f9412d39843bbeeb61edb8163afd2f9314d52c65"
  },
  "kernelspec": {
   "display_name": "Python 3.7.6 64-bit (system)",
   "language": "python",
   "name": "python3"
  },
  "language_info": {
   "codemirror_mode": {
    "name": "ipython",
    "version": 3
   },
   "file_extension": ".py",
   "mimetype": "text/x-python",
   "name": "python",
   "nbconvert_exporter": "python",
   "pygments_lexer": "ipython3",
   "version": "3.7.6"
  },
  "orig_nbformat": 4
 },
 "nbformat": 4,
 "nbformat_minor": 2
}
