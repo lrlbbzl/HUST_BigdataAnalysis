{
 "cells": [
  {
   "cell_type": "code",
   "execution_count": 1,
   "metadata": {},
   "outputs": [],
   "source": [
    "import os \n",
    "import numpy as np\n",
    "import pandas as pd\n",
    "import matplotlib.pyplot as plt\n",
    "import operator\n",
    "import math\n",
    "import heapq\n",
    "import warnings\n",
    "from copy import deepcopy\n",
    "warnings.filterwarnings(\"ignore\")"
   ]
  },
  {
   "cell_type": "code",
   "execution_count": 2,
   "metadata": {},
   "outputs": [],
   "source": [
    "df = pd.read_csv(\"train_set.csv\")\n",
    "user, movie, score = df['userId'].values, df['movieId'].values, df['rating'].values\n",
    "users = {}\n",
    "moviesSet = set()\n",
    "for i in range(len(user)):\n",
    "    moviesSet.add(movie[i])\n",
    "    if user[i] not in users:\n",
    "        users.update({user[i] : {movie[i] : score[i]}})\n",
    "    else:\n",
    "        users[user[i]].update({movie[i] : score[i]})\n",
    "    "
   ]
  },
  {
   "cell_type": "code",
   "execution_count": 3,
   "metadata": {},
   "outputs": [],
   "source": [
    "class recommendByUsers(object):\n",
    "    def __init__(self, data, pattern, avg):\n",
    "        self.data = data\n",
    "        self.pattern = pattern\n",
    "        self.avg = avg\n",
    "    \n",
    "    def getItems(self, userId1, userId2):\n",
    "        return self.data[userId1], self.data[userId2]\n",
    "    \n",
    "    def calPearson(self, userId1 : dict, userId2 : dict):\n",
    "        n, sumXY, sumX1, sumY1, sumX2, sumY2 = 0, 0.0, 0.0, 0.0, 0.0, 0.0\n",
    "        for movie1, score1 in userId1.items():\n",
    "            if movie1 in userId2:\n",
    "                n += 1\n",
    "                sumXY += score1 * userId2[movie1]\n",
    "                sumX1 += score1\n",
    "                sumY1 += userId2[movie1]\n",
    "                sumX2 += math.pow(score1, 2)\n",
    "                sumY2 += math.pow(userId2[movie1], 2)\n",
    "        if n == 0:\n",
    "            return 0\n",
    "        denominator = math.sqrt((sumX2 - (math.pow(sumX1, 2) / n)) * (sumY2 - (math.pow(sumY1, 2) / n)))\n",
    "        molecure = sumXY - (sumX1 * sumY1) / n\n",
    "        if molecure == 0 or denominator == 0:\n",
    "            return 0\n",
    "        return molecure / denominator\n",
    "\n",
    "    def createPearsonMatrix(self):\n",
    "        peopleSum = len(self.data.keys())\n",
    "        self.mat = np.zeros(shape=(peopleSum + 1,peopleSum + 1))\n",
    "        for i in range(1, peopleSum + 1):\n",
    "            if i + 1 <= peopleSum:\n",
    "                for j in range(i + 1, peopleSum + 1):\n",
    "                    self.mat[i][j] = self.mat[j][i] = self.calPearson(self.data[i], self.data[j])\n",
    "    \n",
    "    def recommendSingle(self, userId, k, n):\n",
    "        if self.pattern == 'zero':\n",
    "            return self.recommend1(userId, k, n)\n",
    "        elif self.pattern == 'avg':\n",
    "            return self.recommend2(userId, k, n)\n",
    "    \n",
    "    def recommend1(self, userId, k, n):\n",
    "        # 为单个人userId推荐n个\n",
    "        index = np.argsort(self.mat[userId][1 : ])[-k : ]  # k个最相似的用户号\n",
    "        allMovieScore, contributionSum = {}, {}\n",
    "        # 计算\n",
    "        for id in index:\n",
    "            # 问题1\n",
    "            if id == 0 or self.mat[userId][id] < 0:\n",
    "                continue\n",
    "            else:\n",
    "                for movie, score in self.data[id].items():\n",
    "                    if movie in allMovieScore:\n",
    "                        allMovieScore[movie] += score * self.mat[userId][id]\n",
    "                        contributionSum[movie] += self.mat[userId][id]\n",
    "                    else:\n",
    "                        allMovieScore.update({movie : score * self.mat[userId][id]})\n",
    "                        contributionSum.update({movie : self.mat[userId][id]})\n",
    "        # 已评分的电影id在推荐中删除\n",
    "        for movie in self.data[userId].keys():\n",
    "            if movie in allMovieScore:\n",
    "                del allMovieScore[movie]\n",
    "        # 经过k个最相似用户的评分处理后的userId用户的新评分\n",
    "        for movie in allMovieScore.keys():\n",
    "            if contributionSum[movie] != 0:\n",
    "                allMovieScore[movie] /= contributionSum[movie]\n",
    "        recommendList = sorted(allMovieScore.items(), key=lambda x:x[1], reverse=True)\n",
    "        return allMovieScore, recommendList[:min(n, len(recommendList))] # 评分,推荐列表\n",
    "    \n",
    "    def recommend2(self, userId, k, n):\n",
    "        # 为单个人userId推荐n个\n",
    "        index = np.argsort(self.mat[userId][1 : ])[-k : ]  # k个最相似的用户号\n",
    "        allMovieScore, contributionSum = {movie : 0 for movie in self.avg.keys()}, 0.0\n",
    "        # 计算\n",
    "        for id in index:\n",
    "            # 问题1\n",
    "            sim = self.mat[userId][id]\n",
    "            if id == 0 or sim < 0:\n",
    "                continue\n",
    "            else:\n",
    "                for movie, score in self.avg.items():\n",
    "                    allMovieScore[movie] += score * sim\n",
    "                for movie, score in self.data[id].items():\n",
    "                    allMovieScore[movie] += score * sim - avg[movie] * sim\n",
    "                contributionSum += sim\n",
    "        # 已评分的电影id在推荐中删除\n",
    "        for movie in self.data[userId].keys():\n",
    "            if movie in allMovieScore:\n",
    "                del allMovieScore[movie]\n",
    "        # 经过k个最相似用户的评分处理后的userId用户的新评分\n",
    "        for movie in allMovieScore.keys():\n",
    "            allMovieScore[movie] /= contributionSum\n",
    "        recommendList = sorted(allMovieScore.items(), key=lambda x:x[1], reverse=True)\n",
    "        return allMovieScore, recommendList[:min(n, len(recommendList))] # 评分,推荐列表"
   ]
  },
  {
   "cell_type": "code",
   "execution_count": 4,
   "metadata": {},
   "outputs": [],
   "source": [
    "testData = pd.read_csv(\"test_set.csv\")\n",
    "testUsers, testMovies, rating = testData['userId'].values, testData['movieId'].values, testData['rating'].values"
   ]
  },
  {
   "cell_type": "code",
   "execution_count": 5,
   "metadata": {},
   "outputs": [],
   "source": [
    "def testResult(testUsers, testMovies, users, recommender, k, n):\n",
    "    res = []\n",
    "    cache = {} # 缓存结果\n",
    "    for user, movie in zip(testUsers, testMovies):\n",
    "        if movie in users[user]:\n",
    "                res.append(users[user][movie])\n",
    "        elif user in cache:\n",
    "            if movie in cache[user]:\n",
    "                res.append(cache[user][movie])\n",
    "            else:\n",
    "                res.append(0)\n",
    "        else:\n",
    "            addedMovieScore, recommend = recommender.recommendSingle(user, k, n)\n",
    "            cache.update({user : addedMovieScore})\n",
    "            if movie in addedMovieScore:\n",
    "                res.append(addedMovieScore[movie])\n",
    "            else:\n",
    "                res.append(0)\n",
    "    return res"
   ]
  },
  {
   "cell_type": "code",
   "execution_count": 6,
   "metadata": {},
   "outputs": [],
   "source": [
    "avg = {} # 平均分\n",
    "scoreSum, contributorSum = {}, {}\n",
    "for user, statement in users.items():\n",
    "    for movie, score in statement.items():\n",
    "        if movie in scoreSum:\n",
    "            scoreSum[movie] += score\n",
    "            contributorSum[movie] += 1\n",
    "        else:\n",
    "            scoreSum.update({movie : score})\n",
    "            contributorSum.update({movie : 1})\n",
    "for movie, score in scoreSum.items():\n",
    "    avg.update({movie : score / contributorSum[movie]})"
   ]
  },
  {
   "cell_type": "code",
   "execution_count": 38,
   "metadata": {},
   "outputs": [],
   "source": [
    "recommender = recommendByUsers(users, 'zero', avg)\n",
    "recommender.createPearsonMatrix()"
   ]
  },
  {
   "cell_type": "code",
   "execution_count": 40,
   "metadata": {},
   "outputs": [],
   "source": [
    "result = testResult(testUsers, testMovies, users, recommender, 30, 3)\n",
    "SSE = np.sum(np.square(np.array(result) - rating))"
   ]
  },
  {
   "cell_type": "code",
   "execution_count": 41,
   "metadata": {},
   "outputs": [
    {
     "data": {
      "text/plain": [
       "115.70765326470769"
      ]
     },
     "execution_count": 41,
     "metadata": {},
     "output_type": "execute_result"
    }
   ],
   "source": [
    "SSE # 0"
   ]
  },
  {
   "cell_type": "code",
   "execution_count": 7,
   "metadata": {},
   "outputs": [],
   "source": [
    "recommender1 = recommendByUsers(users, 'avg', avg)\n",
    "recommender1.createPearsonMatrix()\n",
    "result1 = testResult(testUsers, testMovies, users, recommender1, 30, 3)\n",
    "SSE1 = np.sum(np.square(np.array(result1) - rating))"
   ]
  },
  {
   "cell_type": "code",
   "execution_count": 8,
   "metadata": {},
   "outputs": [
    {
     "data": {
      "text/plain": [
       "82.75699952715188"
      ]
     },
     "execution_count": 8,
     "metadata": {},
     "output_type": "execute_result"
    }
   ],
   "source": [
    "SSE1 # avg"
   ]
  },
  {
   "cell_type": "code",
   "execution_count": 8,
   "metadata": {},
   "outputs": [],
   "source": [
    "res = []\n",
    "for num in range(100, 301, 10):\n",
    "    result = testResult(testUsers, testMovies, users, recommender, num, 3)\n",
    "    SSE = np.sum(np.square(np.array(result) - rating))\n",
    "    res.append(SSE)"
   ]
  },
  {
   "cell_type": "code",
   "execution_count": 18,
   "metadata": {},
   "outputs": [
    {
     "data": {
      "image/png": "[encoded data removed]",
      "text/plain": [
       "<Figure size 432x288 with 1 Axes>"
      ]
     },
     "metadata": {
      "needs_background": "light"
     },
     "output_type": "display_data"
    }
   ],
   "source": [
    "# 0填补\n",
    "from scipy.interpolate import interp1d\n",
    "x = np.arange(100, 301, 10)\n",
    "res = np.array(res)\n",
    "xnew = np.linspace(x.min(), x.max(), 3000)\n",
    "func = interp1d(x, res, kind='cubic')\n",
    "ynew = func(xnew)\n",
    "plt.plot(xnew, ynew)\n",
    "for i in range(len(x)):\n",
    "    plt.plot([x[i], x[i]], [74, res[i]], c='r', linestyle='--')\n",
    "plt.xlabel('k')\n",
    "plt.ylabel('SSE')\n",
    "plt.ylim(74)\n",
    "plt.show()"
   ]
  },
  {
   "cell_type": "code",
   "execution_count": 9,
   "metadata": {},
   "outputs": [],
   "source": [
    "res = []\n",
    "for num in range(10, 101, 10):\n",
    "    result = testResult(testUsers, testMovies, users, recommender1, num, 3)\n",
    "    SSE = np.sum(np.square(np.array(result) - rating))\n",
    "    res.append(SSE)"
   ]
  },
  {
   "cell_type": "code",
   "execution_count": 11,
   "metadata": {},
   "outputs": [
    {
     "data": {
      "image/png": "[encoded data removed]",
      "text/plain": [
       "<Figure size 432x288 with 1 Axes>"
      ]
     },
     "metadata": {
      "needs_background": "light"
     },
     "output_type": "display_data"
    }
   ],
   "source": [
    "# avg填补\n",
    "from scipy.interpolate import interp1d\n",
    "x = np.arange(10, 101, 10)\n",
    "res = np.array(res)\n",
    "xnew = np.linspace(x.min(), x.max(), 1000)\n",
    "func = interp1d(x, res, kind='cubic')\n",
    "ynew = func(xnew)\n",
    "plt.xlabel('k')\n",
    "plt.ylabel('SSE')\n",
    "plt.plot(xnew, ynew)\n",
    "for i in range(len(x)):\n",
    "    plt.plot([x[i], x[i]], [80.5, res[i]], c='r', linestyle='--')\n",
    "plt.ylim(80.5)\n",
    "plt.show()"
   ]
  },
  {
   "cell_type": "code",
   "execution_count": 9,
   "metadata": {},
   "outputs": [
    {
     "name": "stdout",
     "output_type": "stream",
     "text": [
      "[(2086, 5.0), (6598, 5.0), (3879, 5.0), (1859, 5.0), (4302, 5.0)]\n"
     ]
    }
   ],
   "source": [
    "scores, recommends = recommender1.recommendSingle(29, 30, 5)\n",
    "print(recommends)"
   ]
  },
  {
   "cell_type": "code",
   "execution_count": null,
   "metadata": {},
   "outputs": [],
   "source": []
  }
 ],
 "metadata": {
  "interpreter": {
   "hash": "73e8fb81fc9d21637ba62ed4f9412d39843bbeeb61edb8163afd2f9314d52c65"
  },
  "kernelspec": {
   "display_name": "Python 3.7.6 64-bit (system)",
   "language": "python",
   "name": "python3"
  },
  "language_info": {
   "codemirror_mode": {
    "name": "ipython",
    "version": 3
   },
   "file_extension": ".py",
   "mimetype": "text/x-python",
   "name": "python",
   "nbconvert_exporter": "python",
   "pygments_lexer": "ipython3",
   "version": "3.7.6"
  },
  "orig_nbformat": 4
 },
 "nbformat": 4,
 "nbformat_minor": 2
}
