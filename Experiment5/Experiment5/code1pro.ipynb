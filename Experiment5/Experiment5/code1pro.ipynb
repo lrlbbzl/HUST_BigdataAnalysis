{
 "cells": [
  {
   "cell_type": "code",
   "execution_count": 1,
   "metadata": {},
   "outputs": [],
   "source": [
    "import os \n",
    "import numpy as np\n",
    "import pandas as pd\n",
    "import matplotlib.pyplot as plt\n",
    "import operator\n",
    "import math\n",
    "import heapq\n",
    "import warnings\n",
    "from copy import deepcopy\n",
    "warnings.filterwarnings(\"ignore\")"
   ]
  },
  {
   "cell_type": "code",
   "execution_count": 2,
   "metadata": {},
   "outputs": [],
   "source": [
    "df1 = pd.read_csv(\"movies.csv\")\n",
    "movieId, genres = df1['movieId'].values, df1['genres'].values\n",
    "genresSet = set()\n",
    "for i in range(len(genres)):\n",
    "    genres[i] = genres[i].lower().split('|')\n",
    "    for category in genres[i]:\n",
    "        genresSet.add(category)"
   ]
  },
  {
   "cell_type": "code",
   "execution_count": 3,
   "metadata": {},
   "outputs": [],
   "source": [
    "df = pd.read_csv(\"train_set.csv\")\n",
    "user, movie, score = df['userId'].values, df['movieId'].values, df['rating'].values\n",
    "users = {}\n",
    "moviesSet = set()\n",
    "for i in range(len(user)):\n",
    "    moviesSet.add(movie[i])\n",
    "    if user[i] not in users:\n",
    "        users.update({user[i] : {movie[i] : score[i]}})\n",
    "    else:\n",
    "        users[user[i]].update({movie[i] : score[i]})"
   ]
  },
  {
   "cell_type": "code",
   "execution_count": 4,
   "metadata": {},
   "outputs": [],
   "source": [
    "class miniHashContent(object):\n",
    "    def __init__(self, movieId, genres, genresSet, users):\n",
    "        self.movieId = movieId\n",
    "        self.genres = genres # 种类的列表\n",
    "        self.genresList = list(genresSet)\n",
    "        self.users = users\n",
    "\n",
    "    def getFeaureMat(self):\n",
    "        self.featureToNumber = {self.genresList[i] : i for i in range(len(self.genresList))} # 特征到序号的映射\n",
    "        self.movieIdToNumber = {self.movieId[i] : i for i in range(len(self.movieId))} # 电影ID到序号的映射\n",
    "        self.utilityMat = np.zeros(shape=(len(self.movieId), len(self.genresList))) # 效用矩阵\n",
    "        for i in range(len(movieId)):\n",
    "            for category in self.genres[i]:\n",
    "                self.utilityMat[i][self.featureToNumber[category]] = 1\n",
    "        self.utilityMat = self.utilityMat.T # 行为特征，列为集合\n",
    "        return None\n",
    "\n",
    "    def getHashFunc(self, x):\n",
    "        self.hashFuncSum = x\n",
    "        self.hash = []\n",
    "        length = len(self.genresList)\n",
    "        for i in range(x):\n",
    "            # 第i个hash\n",
    "            hashTable = []\n",
    "            for j in range(length):\n",
    "                hashTable.append(((i + 1) * j + 1) % length)\n",
    "            self.hash.append(hashTable)\n",
    "        self.hash = np.array(self.hash)\n",
    "        return None\n",
    "\n",
    "    def getSignatureMat(self):\n",
    "        self.signatureMat = np.full(shape=(self.hashFuncSum, len(self.movieId)), fill_value=1000000) # 初始化为很大的数\n",
    "        for i in range(len(self.utilityMat)):\n",
    "            oneIndex = np.array(np.where(self.utilityMat[i] == 1)) # 找到1的位置, 即可替换的位置\n",
    "            for j in range(self.hashFuncSum):\n",
    "                for k in oneIndex[0]:\n",
    "                    if self.hash[j, i] < self.signatureMat[j, k]:\n",
    "                        self.signatureMat[j, k] = self.hash[j, i]\n",
    "        self.v = np.array([self.signatureMat[:, i] for i in range(len(self.movieId))])\n",
    "        return None\n",
    "\n",
    "    def calJaccard(self, a, b):\n",
    "        return len(set(a) & set(b)) / len(set(a) | set(b))\n",
    "\n",
    "    def getJaccardMat(self):\n",
    "        self.jaccardMat = np.zeros((len(self.movieId), len(self.movieId)))\n",
    "        for i in range(len(self.movieId) - 1):\n",
    "            for j in range(i + 1, len(self.movieId)):\n",
    "                self.jaccardMat[i][j] = self.jaccardMat[j][i] = self.calJaccard(self.v[i], self.v[j])\n",
    "        return None\n",
    "\n",
    "    def scoreMovies(self, users, testUsers, testMovies)->list:\n",
    "        predict = []\n",
    "        for user, movie in zip(testUsers, testMovies):\n",
    "            simSum, molecule = 0.0, 0.0\n",
    "            for mov, mark in users[user].items():\n",
    "                sim = self.jaccardMat[self.movieIdToNumber[mov]][self.movieIdToNumber[movie]]\n",
    "                simSum += sim\n",
    "                molecule += sim * mark  \n",
    "            if simSum > 0:\n",
    "                predict.append(molecule / simSum)\n",
    "            else:\n",
    "                predict.append(0)\n",
    "        return predict\n",
    "\n",
    "    def scoreSpecific(self, users, testUsers, testMovies):\n",
    "        predict = []\n",
    "        for user, movie in zip(testUsers, testMovies):\n",
    "            simSum, molecule = 0.0, 0.0\n",
    "            for mov, mark in users[user].items():\n",
    "                # sim = self.jaccardMat[self.movieIdToNumber[mov]][self.movieIdToNumber[movie]]\n",
    "                sim = self.calJaccard(self.v[self.movieIdToNumber[mov]], self.v[self.movieIdToNumber[movie]])\n",
    "                simSum += sim\n",
    "                molecule += sim * mark  \n",
    "            if simSum > 0:\n",
    "                predict.append(molecule / simSum)\n",
    "            else:\n",
    "                predict.append(0)\n",
    "        return predict\n",
    "\n",
    "    def recommend(self, peopleId, n):\n",
    "        finalScore = {}\n",
    "        for id in self.movieId:\n",
    "            if id not in self.users[peopleId]:\n",
    "                # 是未打分的电影，进行评分\n",
    "                simSum, molecule = 0.0, 0.0\n",
    "                for movie, score in self.users[peopleId].items():\n",
    "                    sim = self.jaccardMat[self.movieIdToNumber[id]][self.movieIdToNumber[movie]]\n",
    "                    if sim > 0:\n",
    "                        molecule += score * sim\n",
    "                        simSum += sim\n",
    "                if simSum != 0:\n",
    "                    finalScore.update({id : molecule / simSum})\n",
    "                else:\n",
    "                    finalScore.update({id : 0})\n",
    "        finalScore = sorted(finalScore.items(), key=lambda x:x[1], reverse=True)\n",
    "        return finalScore[:min(n, len(finalScore))]"
   ]
  },
  {
   "cell_type": "code",
   "execution_count": 5,
   "metadata": {},
   "outputs": [],
   "source": [
    "hasher = miniHashContent(movieId, genres, genresSet, users)\n",
    "hasher.getFeaureMat()\n",
    "hasher.getHashFunc(4)\n",
    "hasher.getSignatureMat()"
   ]
  },
  {
   "cell_type": "code",
   "execution_count": 6,
   "metadata": {},
   "outputs": [],
   "source": [
    "import joblib\n",
    "jaccardMat = joblib.load('JaccardMatrix\\\\1_mat_hash4')\n",
    "hasher.jaccardMat = jaccardMat"
   ]
  },
  {
   "cell_type": "code",
   "execution_count": 7,
   "metadata": {},
   "outputs": [],
   "source": [
    "testData = pd.read_csv(\"test_set.csv\")\n",
    "testUsers, testMovies, rating = testData['userId'].values, testData['movieId'].values, testData['rating'].values"
   ]
  },
  {
   "cell_type": "code",
   "execution_count": 8,
   "metadata": {},
   "outputs": [],
   "source": [
    "predict = hasher.scoreMovies(users, testUsers, testMovies)\n",
    "SSE = np.sum(np.square(np.array(predict) - rating))"
   ]
  },
  {
   "cell_type": "code",
   "execution_count": 9,
   "metadata": {},
   "outputs": [
    {
     "data": {
      "text/plain": [
       "65.9828575811148"
      ]
     },
     "execution_count": 9,
     "metadata": {},
     "output_type": "execute_result"
    }
   ],
   "source": [
    "SSE"
   ]
  },
  {
   "cell_type": "code",
   "execution_count": 13,
   "metadata": {},
   "outputs": [],
   "source": [
    "hasher = miniHashContent(movieId, genres, genresSet, users)\n",
    "hasher.getFeaureMat()\n",
    "SSE_set = []\n",
    "for num in range(2, 20, 2):\n",
    "    hasher.getHashFunc(num)\n",
    "    hasher.getSignatureMat()\n",
    "    predict = hasher.scoreSpecific(users, testUsers, testMovies)\n",
    "    SSE_set.append(np.sum(np.square(np.array(predict) - rating)))"
   ]
  },
  {
   "cell_type": "code",
   "execution_count": 14,
   "metadata": {},
   "outputs": [
    {
     "data": {
      "text/plain": [
       "[63.315543681475006,\n",
       " 64.693131578845,\n",
       " 66.55207838378904,\n",
       " 65.57966841043574,\n",
       " 65.61872688678098,\n",
       " 65.68960588579287,\n",
       " 66.01158800340758,\n",
       " 66.52134546397016,\n",
       " 66.63631574550122]"
      ]
     },
     "execution_count": 14,
     "metadata": {},
     "output_type": "execute_result"
    }
   ],
   "source": [
    "SSE_set"
   ]
  },
  {
   "cell_type": "code",
   "execution_count": 15,
   "metadata": {},
   "outputs": [
    {
     "name": "stdout",
     "output_type": "stream",
     "text": [
      "63.44754044520913\n"
     ]
    }
   ],
   "source": [
    "hasher.getHashFunc(1)\n",
    "hasher.getSignatureMat()\n",
    "predict = hasher.scoreSpecific(users, testUsers, testMovies)\n",
    "print(np.sum(np.square(np.array(predict) - rating)))"
   ]
  },
  {
   "cell_type": "code",
   "execution_count": 10,
   "metadata": {},
   "outputs": [
    {
     "name": "stdout",
     "output_type": "stream",
     "text": [
      "[(88932, 3.491442542787286), (426, 3.4877398720682287), (880, 3.4877398720682287), (968, 3.4877398720682287), (1433, 3.4877398720682287)]\n"
     ]
    }
   ],
   "source": [
    "recommends = hasher.recommend(29, 5)\n",
    "print(recommends)"
   ]
  },
  {
   "cell_type": "code",
   "execution_count": null,
   "metadata": {},
   "outputs": [],
   "source": []
  }
 ],
 "metadata": {
  "interpreter": {
   "hash": "73e8fb81fc9d21637ba62ed4f9412d39843bbeeb61edb8163afd2f9314d52c65"
  },
  "kernelspec": {
   "display_name": "Python 3.7.6 64-bit (system)",
   "language": "python",
   "name": "python3"
  },
  "language_info": {
   "codemirror_mode": {
    "name": "ipython",
    "version": 3
   },
   "file_extension": ".py",
   "mimetype": "text/x-python",
   "name": "python",
   "nbconvert_exporter": "python",
   "pygments_lexer": "ipython3",
   "version": "3.7.6"
  },
  "orig_nbformat": 4
 },
 "nbformat": 4,
 "nbformat_minor": 2
}
