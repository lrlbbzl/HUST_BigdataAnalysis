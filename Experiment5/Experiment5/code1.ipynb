{
 "cells": [
  {
   "cell_type": "code",
   "execution_count": 1,
   "metadata": {},
   "outputs": [],
   "source": [
    "import os \n",
    "import numpy as np\n",
    "import pandas as pd\n",
    "import matplotlib.pyplot as plt\n",
    "import operator\n",
    "import math\n",
    "import heapq\n",
    "import warnings\n",
    "from copy import deepcopy\n",
    "warnings.filterwarnings(\"ignore\")"
   ]
  },
  {
   "cell_type": "code",
   "execution_count": 2,
   "metadata": {},
   "outputs": [],
   "source": [
    "df1 = pd.read_csv(\"movies.csv\")"
   ]
  },
  {
   "cell_type": "code",
   "execution_count": 3,
   "metadata": {},
   "outputs": [],
   "source": [
    "class moviePreprocess(object):\n",
    "    def __init__(self, df):\n",
    "        self.df = df\n",
    "        self.categories = self.df['genres'].values\n",
    "        self.movieId = self.df['movieId'].values\n",
    "        \n",
    "    def calSum(self):\n",
    "        self.idToCategory = {self.movieId[i] : self.categories[i].lower().split('|') for i in range(len(self.movieId))}\n",
    "        self.categorySet = set()\n",
    "        self.categoryAppearSum = {}\n",
    "        for key, value in self.idToCategory.items():\n",
    "            for word in value:\n",
    "                self.categorySet.add(word)\n",
    "                if word in self.categoryAppearSum:\n",
    "                    self.categoryAppearSum[word] += 1\n",
    "                else:\n",
    "                    self.categoryAppearSum.update({word : 1})\n",
    "\n",
    "    def getTfidfMat(self):\n",
    "        self.calSum()\n",
    "        categoryList = list(self.categorySet)\n",
    "        mapper = {categoryList[i] : i for i in range(len(categoryList))}\n",
    "        tfidfMat = np.zeros(shape=(len(self.movieId), len(categoryList)), dtype=np.float32)\n",
    "        length = len(self.movieId)\n",
    "        for i in range(len(self.movieId)):\n",
    "            for word in self.idToCategory[self.movieId[i]]:\n",
    "                tfidfMat[i][mapper[word]] = 1 + math.log((1 + length) / (1 + self.categoryAppearSum[word])) # smooth_idf\n",
    "        for i in range(len(tfidfMat)):\n",
    "            tfidfMat[i] = np.divide(tfidfMat[i], np.sqrt(np.sum(np.square(tfidfMat[i])))) # L2 归一化\n",
    "        return tfidfMat\n",
    "    \n",
    "    def getCosSimilarBetweenTwoMat(self, v1, v2):\n",
    "        return np.dot(v1, np.array(v2).T) / (np.linalg.norm(v1, axis=1).reshape(-1, 1) * np.linalg.norm(v2, axis=1))\n",
    "\n",
    "    def getSimilarityMat(self):\n",
    "        tfidfMat = self.getTfidfMat()\n",
    "        return self.getCosSimilarBetweenTwoMat(tfidfMat, tfidfMat)\n"
   ]
  },
  {
   "cell_type": "code",
   "execution_count": 4,
   "metadata": {},
   "outputs": [],
   "source": [
    "processor = moviePreprocess(df1)\n",
    "similarityMatrix = processor.getSimilarityMat()"
   ]
  },
  {
   "cell_type": "code",
   "execution_count": 5,
   "metadata": {},
   "outputs": [],
   "source": [
    "df2 = pd.read_csv(\"train_set.csv\")\n",
    "user, movie, score = df2['userId'].values, df2['movieId'].values, df2['rating'].values\n",
    "users = {}\n",
    "for i in range(len(user)):\n",
    "    if user[i] not in users:\n",
    "        users.update({user[i] : {movie[i]: score[i]}}) \n",
    "    else:\n",
    "        users[user[i]].update({movie[i]: score[i]})\n",
    "    "
   ]
  },
  {
   "cell_type": "code",
   "execution_count": 6,
   "metadata": {},
   "outputs": [],
   "source": [
    "class recommandByContent(object):\n",
    "    def __init__(self, movieSimMatrix, movieId, mapper, users, k):\n",
    "        self.movieSimMatrix = movieSimMatrix\n",
    "        self.movieId = movieId\n",
    "        self.mapper = mapper # movieId -> order in movieSimMatrix\n",
    "        self.users = users\n",
    "        self.k = k\n",
    "        \n",
    "    def recommandSingle(self, peopleId):\n",
    "        # peopleId 是excel中对应的人序号，从1开始\n",
    "        finalScore = {}\n",
    "        for id in self.movieId:\n",
    "            if id not in self.users[peopleId]:\n",
    "                # 是未打分的电影，进行评分\n",
    "                simSum, molecule = 0.0, 0.0\n",
    "                for movie, score in self.users[peopleId].items():\n",
    "                    sim = self.movieSimMatrix[self.mapper[id]][self.mapper[movie]]\n",
    "                    if sim > 0:\n",
    "                        molecule += score * sim\n",
    "                        simSum += sim\n",
    "                if simSum != 0:\n",
    "                    finalScore.update({id : molecule / simSum})\n",
    "                else:\n",
    "                    finalScore.update({id : 0})\n",
    "        return finalScore\n",
    "\n",
    "    def recommandSpecificPerson(self, userID):\n",
    "        finalScore = self.recommandSingle(userID)\n",
    "        predictScore = deepcopy(finalScore)\n",
    "        finalScore = sorted(finalScore.items(), key=lambda x:x[1], reverse=True)\n",
    "        return predictScore, finalScore[: min(self.k, len(finalScore))]\n",
    "\n",
    "    def scoreMovie(self, userID, movieID):\n",
    "        simSum, molecule = 0.0, 0.0\n",
    "        for movie, score in self.users[userID].items():\n",
    "            sim = self.movieSimMatrix[self.mapper[movieID]][self.mapper[movie]]\n",
    "            if sim > 0:\n",
    "                molecule += score * sim\n",
    "                simSum += sim\n",
    "        if simSum != 0:\n",
    "            return molecule / simSum\n",
    "        else:\n",
    "            return 0"
   ]
  },
  {
   "cell_type": "code",
   "execution_count": 7,
   "metadata": {},
   "outputs": [],
   "source": [
    "movieId = df1['movieId'].values\n",
    "mapper = {movieId[i] : i for i in range(len(movieId))}\n",
    "recommander = recommandByContent(similarityMatrix, movieId, mapper, users, 5)"
   ]
  },
  {
   "cell_type": "code",
   "execution_count": 13,
   "metadata": {},
   "outputs": [],
   "source": [
    "finalScore, recommandMovie = recommander.recommandSpecificPerson(4)"
   ]
  },
  {
   "cell_type": "code",
   "execution_count": 14,
   "metadata": {},
   "outputs": [
    {
     "data": {
      "text/plain": [
       "[(746, 5.0), (1153, 5.0), (1154, 5.0), (2066, 5.0), (3292, 5.0)]"
      ]
     },
     "execution_count": 14,
     "metadata": {},
     "output_type": "execute_result"
    }
   ],
   "source": [
    "recommandMovie"
   ]
  },
  {
   "cell_type": "code",
   "execution_count": 8,
   "metadata": {},
   "outputs": [],
   "source": [
    "testData = pd.read_csv(\"test_set.csv\")\n",
    "testUsers, testMovies, rating = testData['userId'].values, testData['movieId'].values, testData['rating'].values"
   ]
  },
  {
   "cell_type": "code",
   "execution_count": 24,
   "metadata": {},
   "outputs": [],
   "source": [
    "def testResult(testUsers, testMovies, recommander):\n",
    "    res = []\n",
    "    for user, movie in zip(testUsers, testMovies):\n",
    "        res.append(recommander.scoreMovie(user, movie))\n",
    "    return res"
   ]
  },
  {
   "cell_type": "code",
   "execution_count": 25,
   "metadata": {},
   "outputs": [],
   "source": [
    "predict = testResult(testUsers, testMovies, recommander)"
   ]
  },
  {
   "cell_type": "code",
   "execution_count": 27,
   "metadata": {},
   "outputs": [
    {
     "name": "stdout",
     "output_type": "stream",
     "text": [
      "67.11922898128542\n"
     ]
    }
   ],
   "source": [
    "SSE = np.sum(np.square(np.array(predict) - rating))\n",
    "print(SSE)"
   ]
  },
  {
   "cell_type": "code",
   "execution_count": null,
   "metadata": {},
   "outputs": [],
   "source": []
  }
 ],
 "metadata": {
  "interpreter": {
   "hash": "73e8fb81fc9d21637ba62ed4f9412d39843bbeeb61edb8163afd2f9314d52c65"
  },
  "kernelspec": {
   "display_name": "Python 3.7.6 64-bit (system)",
   "language": "python",
   "name": "python3"
  },
  "language_info": {
   "codemirror_mode": {
    "name": "ipython",
    "version": 3
   },
   "file_extension": ".py",
   "mimetype": "text/x-python",
   "name": "python",
   "nbconvert_exporter": "python",
   "pygments_lexer": "ipython3",
   "version": "3.7.6"
  },
  "orig_nbformat": 4
 },
 "nbformat": 4,
 "nbformat_minor": 2
}
