{
 "cells": [
  {
   "cell_type": "code",
   "execution_count": 1,
   "metadata": {},
   "outputs": [],
   "source": [
    "import os \n",
    "import numpy as np\n",
    "import pandas as pd\n",
    "import matplotlib.pyplot as plt\n",
    "import operator\n",
    "import math\n",
    "import heapq\n",
    "import warnings\n",
    "from copy import deepcopy\n",
    "warnings.filterwarnings(\"ignore\")"
   ]
  },
  {
   "cell_type": "code",
   "execution_count": 7,
   "metadata": {},
   "outputs": [],
   "source": [
    "df = pd.read_csv(\"train_set.csv\")\n",
    "user, movie, score = df['userId'].values, df['movieId'].values, df['rating'].values\n",
    "users = {}\n",
    "for i in range(len(user)):\n",
    "    if user[i] not in users:\n",
    "        users.update({user[i] : {movie[i] : score[i]}})\n",
    "    else:\n",
    "        users[user[i]].update({movie[i] : score[i]})"
   ]
  },
  {
   "cell_type": "code",
   "execution_count": 13,
   "metadata": {},
   "outputs": [],
   "source": [
    "class minhashUsers(object):\n",
    "    def __init__(self, users, user, movie, score, avg):\n",
    "        self.users = users\n",
    "        self.user = user\n",
    "        self.movie = movie\n",
    "        self.score = score\n",
    "        self.avg = avg\n",
    "        self.userList = list(set(user))\n",
    "        self.usersSum = len(self.userList)\n",
    "        self.moviesList = list(set(movie))\n",
    "        self.moviesSum = len(self.moviesList)\n",
    "        self.movieToNum = {self.moviesList[i] : i for i in range(len(self.moviesList))}\n",
    "\n",
    "    def getUtilityMat(self):\n",
    "        self.utilityMat = np.zeros((self.usersSum, self.moviesSum)) # 效用矩阵\n",
    "        for user in self.userList:\n",
    "            for movie, score in self.users[user].items():\n",
    "                self.utilityMat[user - 1][self.movieToNum[movie]] = 0 if 0.5 <= score <= 2.5 else 1\n",
    "        self.utilityMat = self.utilityMat.T\n",
    "\n",
    "    def getHashFunc(self, x):\n",
    "        self.hashFuncSum = x\n",
    "        self.hash = []\n",
    "        length = self.moviesSum\n",
    "        for i in range(x):\n",
    "            # 第i个hash\n",
    "            hashTable = []\n",
    "            for j in range(length):\n",
    "                hashTable.append(((i + 1) * j + 1) % length)\n",
    "            self.hash.append(hashTable)\n",
    "        self.hash = np.array(self.hash)\n",
    "        return None\n",
    "\n",
    "    def getSignatureMat(self):\n",
    "        self.signatureMat = np.full(shape=(self.hashFuncSum, self.usersSum), fill_value=1000000) # 初始化为很大的数\n",
    "        for i in range(len(self.utilityMat)):\n",
    "            oneIndex = np.array(np.where(self.utilityMat[i] == 1)) # 找到1的位置, 即可替换的位置\n",
    "            for j in range(self.hashFuncSum):\n",
    "                for k in oneIndex[0]:\n",
    "                    if self.hash[j, i] < self.signatureMat[j, k]:\n",
    "                        self.signatureMat[j, k] = self.hash[j, i]\n",
    "        return None\n",
    "    \n",
    "    def calJaccard(self, a, b):\n",
    "        return len(set(a) & set(b)) / len(set(a) | set(b))\n",
    "\n",
    "    def getJaccardMat(self):\n",
    "        self.jaccardMat = np.zeros((self.usersSum, self.usersSum))\n",
    "        v = np.array([self.signatureMat[:, i] for i in range(self.usersSum)])\n",
    "        for i in range(self.usersSum - 1):\n",
    "            for j in range(i + 1, self.usersSum):\n",
    "                self.jaccardMat[i][j] = self.jaccardMat[j][i] = self.calJaccard(v[i], v[j])\n",
    "        return None\n",
    "\n",
    "    def scoreMovies(self, k, testUsers, testMovies):\n",
    "        predict = []\n",
    "        for user, movie in zip(testUsers, testMovies):\n",
    "            index = np.argsort(self.jaccardMat[user - 1])[-k:] # 最相似的k个用户的下标\n",
    "            simSum, molecule = 0.0, 0.0\n",
    "            for id in index:\n",
    "                sim = self.jaccardMat[user - 1][id]\n",
    "                simSum += sim\n",
    "                if movie in self.users[id + 1]:\n",
    "                    molecule += sim * self.users[id + 1][movie]\n",
    "                else:\n",
    "                    molecule += sim * self.avg[movie]\n",
    "            if simSum != 0:\n",
    "                predict.append(molecule / simSum)\n",
    "            else:\n",
    "                predict.append(0)\n",
    "        return np.array(predict)\n",
    "\n",
    "    def recommend(self, userId, k, n):\n",
    "        # 为单个人userId推荐n个\n",
    "        index = np.argsort(self.jaccardMat[userId - 1])[-k : ]  # k个最相似的用户号\n",
    "        allMovieScore, contributionSum = {movie : 0 for movie in self.avg.keys()}, 0.0\n",
    "        # 计算\n",
    "        for id in index:\n",
    "            # 问题1\n",
    "            sim = self.jaccardMat[userId - 1][id]\n",
    "            if id == 0 or sim < 0:\n",
    "                continue\n",
    "            else:\n",
    "                for movie, score in self.avg.items():\n",
    "                    allMovieScore[movie] += score * sim\n",
    "                for movie, score in self.users[id + 1].items():\n",
    "                    allMovieScore[movie] += score * sim - avg[movie] * sim\n",
    "                contributionSum += sim\n",
    "        # 已评分的电影id在推荐中删除\n",
    "        for movie in self.users[userId].keys():\n",
    "            if movie in allMovieScore:\n",
    "                del allMovieScore[movie]\n",
    "        # 经过k个最相似用户的评分处理后的userId用户的新评分\n",
    "        for movie in allMovieScore.keys():\n",
    "            allMovieScore[movie] /= contributionSum\n",
    "        recommendList = sorted(allMovieScore.items(), key=lambda x:x[1], reverse=True)\n",
    "        return allMovieScore, recommendList[:min(n, len(recommendList))] # 评分,推荐列表"
   ]
  },
  {
   "cell_type": "code",
   "execution_count": 4,
   "metadata": {},
   "outputs": [],
   "source": [
    "avg = {} # 平均分\n",
    "scoreSum, contributorSum = {}, {}\n",
    "for user, statement in users.items():\n",
    "    for movie, score in statement.items():\n",
    "        if movie in scoreSum:\n",
    "            scoreSum[movie] += score\n",
    "            contributorSum[movie] += 1\n",
    "        else:\n",
    "            scoreSum.update({movie : score})\n",
    "            contributorSum.update({movie : 1})\n",
    "for movie, score in scoreSum.items():\n",
    "    avg.update({movie : score / contributorSum[movie]})"
   ]
  },
  {
   "cell_type": "code",
   "execution_count": 14,
   "metadata": {},
   "outputs": [],
   "source": [
    "# 没有矩阵时\n",
    "import joblib\n",
    "hasher = minhashUsers(users, user, movie, score, avg)\n",
    "hasher.getUtilityMat()\n",
    "hasher.getHashFunc(4)\n",
    "hasher.getSignatureMat()\n",
    "hasher.getJaccardMat()"
   ]
  },
  {
   "cell_type": "code",
   "execution_count": 15,
   "metadata": {},
   "outputs": [],
   "source": [
    "testData = pd.read_csv(\"test_set.csv\")\n",
    "testUsers, testMovies, rating = testData['userId'].values, testData['movieId'].values, testData['rating'].values"
   ]
  },
  {
   "cell_type": "code",
   "execution_count": 16,
   "metadata": {},
   "outputs": [
    {
     "name": "stdout",
     "output_type": "stream",
     "text": [
      "80.33093218279444\n"
     ]
    }
   ],
   "source": [
    "predict = hasher.scoreMovies(30, testUsers, testMovies)\n",
    "print(np.sum(np.square(predict - rating)))"
   ]
  },
  {
   "cell_type": "code",
   "execution_count": 17,
   "metadata": {},
   "outputs": [
    {
     "name": "stdout",
     "output_type": "stream",
     "text": [
      "[(6598, 5.0), (3879, 5.0), (1859, 5.0), (4302, 5.0), (4731, 5.0)]\n"
     ]
    }
   ],
   "source": [
    "allMovieScore, recommendList = hasher.recommend(4, 30, 5)\n",
    "print(recommendList)"
   ]
  },
  {
   "cell_type": "code",
   "execution_count": 18,
   "metadata": {},
   "outputs": [
    {
     "name": "stdout",
     "output_type": "stream",
     "text": [
      "81.00015236764898\n",
      "80.07229285102497\n",
      "80.33093218279444\n",
      "80.86234447015973\n",
      "80.6521307154941\n",
      "80.33073089705636\n",
      "80.31240126463544\n",
      "80.17287280511215\n",
      "80.31501152301841\n",
      "80.36390345118966\n"
     ]
    }
   ],
   "source": [
    "for num in range(10, 101, 10):\n",
    "    predict = hasher.scoreMovies(num, testUsers, testMovies)\n",
    "    SSE = np.sum(np.square(predict - rating))\n",
    "    print(SSE)"
   ]
  },
  {
   "cell_type": "code",
   "execution_count": null,
   "metadata": {},
   "outputs": [],
   "source": []
  }
 ],
 "metadata": {
  "interpreter": {
   "hash": "28f22b0234cdca00c41c6feae756e61abbf747b99014a590937146b818e5c814"
  },
  "kernelspec": {
   "display_name": "Python 3.7.6 64-bit",
   "language": "python",
   "name": "python3"
  },
  "language_info": {
   "codemirror_mode": {
    "name": "ipython",
    "version": 3
   },
   "file_extension": ".py",
   "mimetype": "text/x-python",
   "name": "python",
   "nbconvert_exporter": "python",
   "pygments_lexer": "ipython3",
   "version": "3.7.6"
  },
  "orig_nbformat": 4
 },
 "nbformat": 4,
 "nbformat_minor": 2
}
