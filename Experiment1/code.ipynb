{
 "cells": [
  {
   "cell_type": "code",
   "execution_count": 1,
   "metadata": {},
   "outputs": [],
   "source": [
    "import numpy as np\n",
    "import math\n",
    "import pandas as pd\n",
    "import threading\n",
    "import time\n",
    "import queue"
   ]
  },
  {
   "cell_type": "code",
   "execution_count": 2,
   "metadata": {},
   "outputs": [],
   "source": [
    "def mapper(order):\n",
    "    sourcefile = './data/source0' + str(order)\n",
    "    map_filename = './mapper/mapper0' + str(order)\n",
    "    with open(map_filename, 'w') as f:\n",
    "        for line in open(sourcefile):\n",
    "            line_word_list = line.strip().split(',')\n",
    "            for word in line_word_list:\n",
    "                f.write(word.strip() + '\\t1\\n')"
   ]
  },
  {
   "cell_type": "code",
   "execution_count": 3,
   "metadata": {},
   "outputs": [],
   "source": [
    "thread_list = []\n",
    "for i in range(1, 10):\n",
    "    thread_list.append(threading.Thread(target=mapper, args=(i, )))"
   ]
  },
  {
   "cell_type": "code",
   "execution_count": 4,
   "metadata": {},
   "outputs": [],
   "source": [
    "for tr in thread_list:\n",
    "    tr.start()"
   ]
  },
  {
   "cell_type": "code",
   "execution_count": 8,
   "metadata": {},
   "outputs": [],
   "source": [
    "def combiner(order):\n",
    "    sourcefile = './mapper/mapper0' + str(order)\n",
    "    dict = {}\n",
    "    for line in open(sourcefile):\n",
    "        element = line.split('\\t')\n",
    "        word, num = element[0], (int)(element[1])\n",
    "        if word in dict:\n",
    "            dict[word] += 1\n",
    "        else:\n",
    "            dict.update({word : 1})\n",
    "    return dict"
   ]
  },
  {
   "cell_type": "code",
   "execution_count": 9,
   "metadata": {},
   "outputs": [],
   "source": [
    "class CombineThread(threading.Thread):\n",
    "    def __init__(self, func, args=()):\n",
    "        super(CombineThread, self).__init__()\n",
    "        self.func = func\n",
    "        self.args = args\n",
    "    \n",
    "    def run(self):\n",
    "        self.res = self.func(*self.args)\n",
    "\n",
    "    def get_result(self):\n",
    "        try:\n",
    "            return self.res\n",
    "        except Exception as e:\n",
    "            return None"
   ]
  },
  {
   "cell_type": "code",
   "execution_count": 10,
   "metadata": {},
   "outputs": [],
   "source": [
    "combine_dict_list, threads = [], []\n",
    "for i in range(1, 10):\n",
    "    tr = CombineThread(func=combiner, args=(i, ))\n",
    "    tr.start()\n",
    "    threads.append(tr)\n",
    "\n",
    "for tr in threads:\n",
    "    tr.join()\n",
    "    combine_dict_list.append(tr.get_result())"
   ]
  },
  {
   "cell_type": "code",
   "execution_count": 19,
   "metadata": {},
   "outputs": [],
   "source": [
    "def shuffle():\n",
    "    filename = './shuffle/shuffle0'\n",
    "    w1 = open(filename + '1', 'w')\n",
    "    w2 = open(filename + '2', 'w')\n",
    "    w3 = open(filename + '3', 'w')\n",
    "    for dic in combine_dict_list:\n",
    "        for key, value in dic.items():\n",
    "            if key[0].isupper() or (key[0] >= 'a' and key[0] <= 'c') or (not key[0].isalpha()):\n",
    "                w1.write(key + '\\t' + str(value) + '\\n')\n",
    "            elif key[0] >= 'd' and key[0] <= 'o':\n",
    "                w2.write(key + '\\t' + str(value) + '\\n')\n",
    "            else:\n",
    "                w3.write(key + '\\t' + str(value) + '\\n')\n",
    "    w1.close()\n",
    "    w2.close()\n",
    "    w3.close()"
   ]
  },
  {
   "cell_type": "code",
   "execution_count": 20,
   "metadata": {},
   "outputs": [],
   "source": [
    "shuffle()"
   ]
  },
  {
   "cell_type": "code",
   "execution_count": 28,
   "metadata": {},
   "outputs": [],
   "source": [
    "def Reducer(order):\n",
    "    sourcefile = './shuffle/shuffle0' + (str)(order)\n",
    "    dict = {}\n",
    "    for line in open(sourcefile):\n",
    "        element = line.split('\\t')\n",
    "        word, num = element[0], (int)(element[1])\n",
    "        if word in dict:\n",
    "            dict[word] += num\n",
    "        else:\n",
    "            dict.update({word : num})\n",
    "    dict = sorted(dict.items(), key=lambda d: d[0])\n",
    "    filename = './reducer/reducer0' + (str)(order)\n",
    "    w = open(filename, 'w')\n",
    "    for ind in range(len(dict)):\n",
    "        w.write(dict[ind][0] + '\\t' + str(dict[ind][1]) + '\\n')\n",
    "    w.close()"
   ]
  },
  {
   "cell_type": "code",
   "execution_count": 29,
   "metadata": {},
   "outputs": [],
   "source": [
    "reducer_thread_list = []\n",
    "for i in range(1, 4):\n",
    "    reducer_thread_list.append(threading.Thread(target=Reducer, args=(i, )))"
   ]
  },
  {
   "cell_type": "code",
   "execution_count": 30,
   "metadata": {},
   "outputs": [],
   "source": [
    "for tr in reducer_thread_list:\n",
    "    tr.start()"
   ]
  },
  {
   "cell_type": "code",
   "execution_count": 31,
   "metadata": {},
   "outputs": [],
   "source": [
    "sourcefile = './reducer/reducer0'\n",
    "w = open('ans', 'w')\n",
    "for i in range(1, 4):\n",
    "    wt = open(sourcefile + str(i))\n",
    "    line = wt.readline()\n",
    "    while line:\n",
    "        w.write(line)\n",
    "        line = wt.readline()"
   ]
  },
  {
   "cell_type": "code",
   "execution_count": null,
   "metadata": {},
   "outputs": [],
   "source": []
  }
 ],
 "metadata": {
  "interpreter": {
   "hash": "73e8fb81fc9d21637ba62ed4f9412d39843bbeeb61edb8163afd2f9314d52c65"
  },
  "kernelspec": {
   "display_name": "Python 3.7.6 64-bit (system)",
   "language": "python",
   "name": "python3"
  },
  "language_info": {
   "codemirror_mode": {
    "name": "ipython",
    "version": 3
   },
   "file_extension": ".py",
   "mimetype": "text/x-python",
   "name": "python",
   "nbconvert_exporter": "python",
   "pygments_lexer": "ipython3",
   "version": "3.7.6"
  },
  "orig_nbformat": 4
 },
 "nbformat": 4,
 "nbformat_minor": 2
}
